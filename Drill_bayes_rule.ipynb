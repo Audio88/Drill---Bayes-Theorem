{
 "cells": [
  {
   "cell_type": "markdown",
   "metadata": {
    "collapsed": true
   },
   "source": [
    "A diagnostic test has a 98% probability of giving a positive result when applied to a person suffering from Thripshaw's Disease, and 10% probability of giving a (false) positive when applied to a non-sufferer. It is estimated that 0.5 % of the population are sufferers. Suppose that the test is now administered to a person whose disease status is unknown. Calculate the probability that the test will:\n",
    "\n",
    "1. Be positive\n",
    "2. Correctly diagnose a sufferer of Thripshaw's\n",
    "3. Correctly identify a non-sufferer of Thripshaw's\n",
    "4. Misclassify the person"
   ]
  },
  {
   "cell_type": "markdown",
   "metadata": {},
   "source": [
    "    1. p(positive result) = p(postive test) * p(infected) + p(false positive) * p(not infected)\n",
    "\n",
    "    Be positive = .98*.005 + .1*.995 = .1044\n",
    "    \n",
    "    2. Correctly diagnose a sufferer of Thripshaw’s = .98\n",
    "    \n",
    "    3. Inverse of false positive.\n",
    "\n",
    "    Correctly identify a non-sufferer of Thripshaw’s = .9\n",
    "    \n",
    "    4. p(positive test) * p(infected) + p(negative test) * p(not infected)\n",
    "    \n",
    "    Misclassify the person = 1-(.98*.005 + .9*.995)=.0996"
   ]
  }
 ],
 "metadata": {
  "kernelspec": {
   "display_name": "Python 3",
   "language": "python",
   "name": "python3"
  },
  "language_info": {
   "codemirror_mode": {
    "name": "ipython",
    "version": 3
   },
   "file_extension": ".py",
   "mimetype": "text/x-python",
   "name": "python",
   "nbconvert_exporter": "python",
   "pygments_lexer": "ipython3",
   "version": "3.6.3"
  }
 },
 "nbformat": 4,
 "nbformat_minor": 2
}
